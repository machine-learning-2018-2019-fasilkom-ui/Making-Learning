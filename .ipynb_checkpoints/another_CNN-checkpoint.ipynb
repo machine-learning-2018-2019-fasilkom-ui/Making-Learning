{
 "cells": [
  {
   "cell_type": "code",
   "execution_count": 157,
   "metadata": {},
   "outputs": [],
   "source": [
    "import tensorflow as tf\n",
    "from tensorflow.keras.models import Sequential\n",
    "from tensorflow.keras.layers import Dense, Dropout, Flatten, BatchNormalization\n",
    "from tensorflow.keras.layers import Conv2D, MaxPooling2D, AveragePooling2D\n",
    "import numpy as np"
   ]
  },
  {
   "cell_type": "code",
   "execution_count": 2,
   "metadata": {},
   "outputs": [],
   "source": [
    "import os\n",
    "import cv2"
   ]
  },
  {
   "cell_type": "code",
   "execution_count": 3,
   "metadata": {},
   "outputs": [],
   "source": [
    "import pandas as pd"
   ]
  },
  {
   "cell_type": "code",
   "execution_count": 4,
   "metadata": {},
   "outputs": [],
   "source": [
    "sources = [\"https://towardsdatascience.com/build-your-own-convolution-neural-network-in-5-mins-4217c2cf964f\"]"
   ]
  },
  {
   "cell_type": "code",
   "execution_count": 60,
   "metadata": {},
   "outputs": [],
   "source": [
    "image_root = 'Making-Learning/dataset/jaffe/'\n",
    "image_title = os.listdir(image_root)\n",
    "image_dirs = [image_root + x for x in os.listdir(image_root)]"
   ]
  },
  {
   "cell_type": "code",
   "execution_count": 75,
   "metadata": {},
   "outputs": [],
   "source": [
    "H = 128\n",
    "W = 128\n",
    "def read_image(file_path):\n",
    "    img = cv2.imread(file_path, cv2.IMREAD_GRAYSCALE)\n",
    "    dimension = (H,W)\n",
    "    resized = cv2.resize(img, dimension)\n",
    "    return resized\n",
    "def prep_data(images):\n",
    "    count = len(images)\n",
    "    data = np.ndarray((count, 1, H, W), dtype=np.uint8)\n",
    "    for i, image_file in enumerate(images):\n",
    "        image = read_image(image_file)\n",
    "        data[i] = image\n",
    "        if i%50 == 0: print('Processed {} of {}'.format(i, count))\n",
    "    return data"
   ]
  },
  {
   "cell_type": "code",
   "execution_count": 76,
   "metadata": {},
   "outputs": [
    {
     "ename": "ValueError",
     "evalue": "list.remove(x): x not in list",
     "output_type": "error",
     "traceback": [
      "\u001b[1;31m---------------------------------------------------------------------------\u001b[0m",
      "\u001b[1;31mValueError\u001b[0m                                Traceback (most recent call last)",
      "\u001b[1;32m<ipython-input-76-b7b9b94469b4>\u001b[0m in \u001b[0;36m<module>\u001b[1;34m\u001b[0m\n\u001b[1;32m----> 1\u001b[1;33m \u001b[0mimage_dirs\u001b[0m\u001b[1;33m.\u001b[0m\u001b[0mremove\u001b[0m\u001b[1;33m(\u001b[0m\u001b[1;34m'Making-Learning/dataset/jaffe/.ipynb_checkpoints'\u001b[0m\u001b[1;33m)\u001b[0m\u001b[1;33m\u001b[0m\u001b[1;33m\u001b[0m\u001b[0m\n\u001b[0m\u001b[0;32m      2\u001b[0m \u001b[0mimage_dirs\u001b[0m\u001b[1;33m.\u001b[0m\u001b[0mremove\u001b[0m\u001b[1;33m(\u001b[0m\u001b[1;34m'Making-Learning/dataset/jaffe/Untitled.ipynb'\u001b[0m\u001b[1;33m)\u001b[0m\u001b[1;33m\u001b[0m\u001b[1;33m\u001b[0m\u001b[0m\n",
      "\u001b[1;31mValueError\u001b[0m: list.remove(x): x not in list"
     ]
    }
   ],
   "source": [
    "image_dirs.remove('Making-Learning/dataset/jaffe/.ipynb_checkpoints')\n",
    "image_dirs.remove('Making-Learning/dataset/jaffe/Untitled.ipynb')"
   ]
  },
  {
   "cell_type": "code",
   "execution_count": 77,
   "metadata": {},
   "outputs": [
    {
     "name": "stdout",
     "output_type": "stream",
     "text": [
      "Processed 0 of 213\n",
      "Processed 50 of 213\n",
      "Processed 100 of 213\n",
      "Processed 150 of 213\n",
      "Processed 200 of 213\n"
     ]
    }
   ],
   "source": [
    "images = prep_data(image_dirs)"
   ]
  },
  {
   "cell_type": "code",
   "execution_count": 78,
   "metadata": {},
   "outputs": [],
   "source": [
    "image_labels = np.array([title[3:5] for title in image_title])"
   ]
  },
  {
   "cell_type": "code",
   "execution_count": 69,
   "metadata": {},
   "outputs": [],
   "source": [
    "labels = []\n",
    "for i, label in enumerate(image_labels):\n",
    "    if label == 'AN':\n",
    "        labels.append(0)\n",
    "    if label == 'DI':\n",
    "        labels.append(1)\n",
    "    if label == 'FE':\n",
    "        labels.append(2)\n",
    "    if label == 'SU':\n",
    "        labels.append(3)\n",
    "    if label == 'SA':\n",
    "        labels.append(4)\n",
    "    if label == 'HA':\n",
    "        labels.append(5)\n",
    "    if label == 'NE':\n",
    "        labels.append(6)"
   ]
  },
  {
   "cell_type": "code",
   "execution_count": 79,
   "metadata": {},
   "outputs": [],
   "source": [
    "from sklearn.model_selection import train_test_split\n",
    "from tensorflow.keras.utils import to_categorical\n",
    " \n",
    "X_train, X_test, y_train, y_test = train_test_split(images, labels, test_size=0.20, random_state=69)\n",
    "\n",
    "X_train = X_train.reshape(X_train.shape[0], H, W, 1)\n",
    "X_test = X_test.reshape(X_test.shape[0], H, W, 1)"
   ]
  },
  {
   "cell_type": "markdown",
   "metadata": {},
   "source": [
    "# Model 1"
   ]
  },
  {
   "cell_type": "code",
   "execution_count": 189,
   "metadata": {},
   "outputs": [],
   "source": [
    "def CNN1(num_classes):\n",
    "    model = Sequential()\n",
    "    model.add(Conv2D(32, kernel_size=(3, 3),\n",
    "                     activation='relu',\n",
    "                     input_shape=(H,W,1)))\n",
    "    model.add(Conv2D(64, (3, 3), activation='relu'))\n",
    "    model.add(MaxPooling2D(pool_size=(2, 2)))\n",
    "    model.add(Flatten())\n",
    "    model.add(Dense(128, activation='relu'))\n",
    "    model.add(Dropout(0.5))\n",
    "    model.add(Dense(num_classes, activation='softmax'))\n",
    "    model.compile(loss='sparse_categorical_crossentropy', optimizer='Adadelta',metrics=['accuracy'])\n",
    "    return model"
   ]
  },
  {
   "cell_type": "code",
   "execution_count": 190,
   "metadata": {},
   "outputs": [],
   "source": [
    "cnn_model = CNN1(7)"
   ]
  },
  {
   "cell_type": "code",
   "execution_count": 191,
   "metadata": {},
   "outputs": [
    {
     "name": "stdout",
     "output_type": "stream",
     "text": [
      "_________________________________________________________________\n",
      "Layer (type)                 Output Shape              Param #   \n",
      "=================================================================\n",
      "conv2d_72 (Conv2D)           (None, 126, 126, 32)      320       \n",
      "_________________________________________________________________\n",
      "conv2d_73 (Conv2D)           (None, 124, 124, 64)      18496     \n",
      "_________________________________________________________________\n",
      "max_pooling2d_44 (MaxPooling (None, 62, 62, 64)        0         \n",
      "_________________________________________________________________\n",
      "flatten_19 (Flatten)         (None, 246016)            0         \n",
      "_________________________________________________________________\n",
      "dense_72 (Dense)             (None, 128)               31490176  \n",
      "_________________________________________________________________\n",
      "dropout_57 (Dropout)         (None, 128)               0         \n",
      "_________________________________________________________________\n",
      "dense_73 (Dense)             (None, 7)                 903       \n",
      "=================================================================\n",
      "Total params: 31,509,895\n",
      "Trainable params: 31,509,895\n",
      "Non-trainable params: 0\n",
      "_________________________________________________________________\n"
     ]
    }
   ],
   "source": [
    "cnn_model.summary()"
   ]
  },
  {
   "cell_type": "code",
   "execution_count": 192,
   "metadata": {},
   "outputs": [
    {
     "name": "stdout",
     "output_type": "stream",
     "text": [
      "Train on 170 samples, validate on 43 samples\n",
      "Epoch 1/30\n",
      " - 19s - loss: 13.8212 - acc: 0.1353 - val_loss: 14.6187 - val_acc: 0.0930\n",
      "Epoch 2/30\n",
      " - 16s - loss: 14.0322 - acc: 0.1294 - val_loss: 14.6187 - val_acc: 0.0930\n",
      "Epoch 3/30\n",
      " - 16s - loss: 13.8426 - acc: 0.1412 - val_loss: 14.6187 - val_acc: 0.0930\n",
      "Epoch 4/30\n",
      " - 16s - loss: 13.6815 - acc: 0.1471 - val_loss: 14.6187 - val_acc: 0.0930\n",
      "Epoch 5/30\n",
      " - 18s - loss: 13.7478 - acc: 0.1471 - val_loss: 14.6187 - val_acc: 0.0930\n",
      "Epoch 6/30\n",
      " - 15s - loss: 13.4634 - acc: 0.1647 - val_loss: 14.6187 - val_acc: 0.0930\n",
      "Epoch 7/30\n",
      " - 16s - loss: 13.6530 - acc: 0.1529 - val_loss: 14.6187 - val_acc: 0.0930\n",
      "Epoch 8/30\n",
      " - 16s - loss: 13.5582 - acc: 0.1588 - val_loss: 14.6187 - val_acc: 0.0930\n",
      "Epoch 9/30\n",
      " - 17s - loss: 13.4634 - acc: 0.1647 - val_loss: 14.6187 - val_acc: 0.0930\n",
      "Epoch 10/30\n",
      " - 16s - loss: 13.4634 - acc: 0.1647 - val_loss: 14.6187 - val_acc: 0.0930\n",
      "Epoch 11/30\n",
      " - 16s - loss: 13.7478 - acc: 0.1471 - val_loss: 14.6187 - val_acc: 0.0930\n",
      "Epoch 12/30\n",
      " - 16s - loss: 13.5582 - acc: 0.1588 - val_loss: 14.6187 - val_acc: 0.0930\n",
      "Epoch 13/30\n",
      " - 17s - loss: 13.6530 - acc: 0.1529 - val_loss: 14.6187 - val_acc: 0.0930\n",
      "Epoch 14/30\n",
      " - 16s - loss: 13.3685 - acc: 0.1706 - val_loss: 14.6187 - val_acc: 0.0930\n",
      "Epoch 15/30\n",
      " - 16s - loss: 12.8945 - acc: 0.2000 - val_loss: 14.6187 - val_acc: 0.0930\n",
      "Epoch 16/30\n",
      " - 18s - loss: 13.7478 - acc: 0.1471 - val_loss: 14.6187 - val_acc: 0.0930\n",
      "Epoch 17/30\n",
      " - 17s - loss: 13.9374 - acc: 0.1353 - val_loss: 14.6187 - val_acc: 0.0930\n",
      "Epoch 18/30\n",
      " - 17s - loss: 12.7997 - acc: 0.2059 - val_loss: 14.6187 - val_acc: 0.0930\n",
      "Epoch 19/30\n",
      " - 17s - loss: 13.3685 - acc: 0.1706 - val_loss: 14.6187 - val_acc: 0.0930\n",
      "Epoch 20/30\n",
      " - 16s - loss: 13.5582 - acc: 0.1588 - val_loss: 14.6187 - val_acc: 0.0930\n",
      "Epoch 21/30\n",
      " - 17s - loss: 13.4634 - acc: 0.1647 - val_loss: 14.6187 - val_acc: 0.0930\n",
      "Epoch 22/30\n",
      " - 17s - loss: 13.6438 - acc: 0.1529 - val_loss: 14.6187 - val_acc: 0.0930\n",
      "Epoch 23/30\n",
      " - 17s - loss: 13.4634 - acc: 0.1647 - val_loss: 14.6187 - val_acc: 0.0930\n",
      "Epoch 24/30\n",
      " - 17s - loss: 13.7478 - acc: 0.1471 - val_loss: 14.6187 - val_acc: 0.0930\n",
      "Epoch 25/30\n",
      " - 17s - loss: 13.7478 - acc: 0.1471 - val_loss: 14.6187 - val_acc: 0.0930\n",
      "Epoch 26/30\n",
      " - 17s - loss: 13.9374 - acc: 0.1353 - val_loss: 14.6187 - val_acc: 0.0930\n",
      "Epoch 27/30\n",
      " - 17s - loss: 13.4634 - acc: 0.1647 - val_loss: 14.6187 - val_acc: 0.0930\n",
      "Epoch 28/30\n",
      " - 16s - loss: 13.5582 - acc: 0.1588 - val_loss: 14.6187 - val_acc: 0.0930\n",
      "Epoch 29/30\n",
      " - 16s - loss: 13.7478 - acc: 0.1471 - val_loss: 14.6187 - val_acc: 0.0930\n",
      "Epoch 30/30\n",
      " - 16s - loss: 13.9374 - acc: 0.1353 - val_loss: 14.6187 - val_acc: 0.0930\n"
     ]
    },
    {
     "data": {
      "text/plain": [
       "<tensorflow.python.keras.callbacks.History at 0x138ac5d20b8>"
      ]
     },
     "execution_count": 192,
     "metadata": {},
     "output_type": "execute_result"
    }
   ],
   "source": [
    "cnn_model.fit(X_train, y_train, validation_data=(X_test, y_test), epochs=30,batch_size=8, verbose=2)"
   ]
  },
  {
   "cell_type": "code",
   "execution_count": 193,
   "metadata": {},
   "outputs": [
    {
     "name": "stdout",
     "output_type": "stream",
     "text": [
      "Classification Error: 90.70%\n"
     ]
    }
   ],
   "source": [
    "scores = cnn_model.evaluate(X_test, y_test, verbose=0)\n",
    "print(\"Classification Error: %.2f%%\" % (100-scores[1]*100))"
   ]
  },
  {
   "cell_type": "markdown",
   "metadata": {},
   "source": [
    "## Model 2"
   ]
  },
  {
   "cell_type": "code",
   "execution_count": 183,
   "metadata": {},
   "outputs": [],
   "source": [
    "def CNN2(num_classes):\n",
    "    model = Sequential()\n",
    "    model.add(Conv2D(64, kernel_size=(5, 5),\n",
    "                     activation='relu',\n",
    "                     input_shape=(H,W,1)))\n",
    "    model.add(BatchNormalization())\n",
    "    model.add(AveragePooling2D())\n",
    "    model.add(Conv2D(32, kernel_size=(5, 5), activation='relu'))\n",
    "    model.add(BatchNormalization())\n",
    "    model.add(MaxPooling2D())\n",
    "    model.add(Conv2D(32, kernel_size=(3,3), activation='relu'))\n",
    "    model.add(BatchNormalization())\n",
    "    model.add(MaxPooling2D())\n",
    "    model.add(Flatten())\n",
    "    model.add(Dense(256, activation='relu'))\n",
    "    model.add(Dropout(0.5))\n",
    "    model.add(Dense(128, activation='relu'))\n",
    "    model.add(Dropout(0.5))\n",
    "    model.add(Dense(num_classes, activation='softmax'))\n",
    "    model.compile(loss='sparse_categorical_crossentropy', optimizer='Adadelta',metrics=['accuracy'])\n",
    "    return model"
   ]
  },
  {
   "cell_type": "code",
   "execution_count": 184,
   "metadata": {},
   "outputs": [],
   "source": [
    "cnn_model2 = CNN2(7)"
   ]
  },
  {
   "cell_type": "code",
   "execution_count": 185,
   "metadata": {},
   "outputs": [
    {
     "name": "stdout",
     "output_type": "stream",
     "text": [
      "_________________________________________________________________\n",
      "Layer (type)                 Output Shape              Param #   \n",
      "=================================================================\n",
      "conv2d_69 (Conv2D)           (None, 124, 124, 64)      1664      \n",
      "_________________________________________________________________\n",
      "batch_normalization_v1_4 (Ba (None, 124, 124, 64)      256       \n",
      "_________________________________________________________________\n",
      "average_pooling2d_12 (Averag (None, 62, 62, 64)        0         \n",
      "_________________________________________________________________\n",
      "conv2d_70 (Conv2D)           (None, 58, 58, 32)        51232     \n",
      "_________________________________________________________________\n",
      "batch_normalization_v1_5 (Ba (None, 58, 58, 32)        128       \n",
      "_________________________________________________________________\n",
      "max_pooling2d_42 (MaxPooling (None, 29, 29, 32)        0         \n",
      "_________________________________________________________________\n",
      "conv2d_71 (Conv2D)           (None, 27, 27, 32)        9248      \n",
      "_________________________________________________________________\n",
      "batch_normalization_v1_6 (Ba (None, 27, 27, 32)        128       \n",
      "_________________________________________________________________\n",
      "max_pooling2d_43 (MaxPooling (None, 13, 13, 32)        0         \n",
      "_________________________________________________________________\n",
      "flatten_18 (Flatten)         (None, 5408)              0         \n",
      "_________________________________________________________________\n",
      "dense_69 (Dense)             (None, 256)               1384704   \n",
      "_________________________________________________________________\n",
      "dropout_55 (Dropout)         (None, 256)               0         \n",
      "_________________________________________________________________\n",
      "dense_70 (Dense)             (None, 128)               32896     \n",
      "_________________________________________________________________\n",
      "dropout_56 (Dropout)         (None, 128)               0         \n",
      "_________________________________________________________________\n",
      "dense_71 (Dense)             (None, 7)                 903       \n",
      "=================================================================\n",
      "Total params: 1,481,159\n",
      "Trainable params: 1,480,903\n",
      "Non-trainable params: 256\n",
      "_________________________________________________________________\n"
     ]
    }
   ],
   "source": [
    "cnn_model2.summary()"
   ]
  },
  {
   "cell_type": "code",
   "execution_count": 186,
   "metadata": {},
   "outputs": [
    {
     "name": "stdout",
     "output_type": "stream",
     "text": [
      "Train on 170 samples, validate on 43 samples\n",
      "Epoch 1/30\n",
      " - 19s - loss: 9.6699 - acc: 0.1000 - val_loss: 14.2214 - val_acc: 0.0930\n",
      "Epoch 2/30\n",
      " - 16s - loss: 6.4586 - acc: 0.1471 - val_loss: 9.4522 - val_acc: 0.1395\n",
      "Epoch 3/30\n",
      " - 16s - loss: 2.7737 - acc: 0.1235 - val_loss: 7.2093 - val_acc: 0.0930\n",
      "Epoch 4/30\n",
      " - 16s - loss: 2.1616 - acc: 0.1706 - val_loss: 3.9778 - val_acc: 0.0930\n",
      "Epoch 5/30\n",
      " - 16s - loss: 1.9457 - acc: 0.2176 - val_loss: 2.7249 - val_acc: 0.0930\n",
      "Epoch 6/30\n",
      " - 16s - loss: 2.0367 - acc: 0.2353 - val_loss: 2.2943 - val_acc: 0.1163\n",
      "Epoch 7/30\n",
      " - 15s - loss: 1.9201 - acc: 0.1941 - val_loss: 1.9970 - val_acc: 0.1628\n",
      "Epoch 8/30\n",
      " - 17s - loss: 2.0205 - acc: 0.2118 - val_loss: 2.0639 - val_acc: 0.2093\n",
      "Epoch 9/30\n",
      " - 16s - loss: 1.9450 - acc: 0.1941 - val_loss: 2.0151 - val_acc: 0.1628\n",
      "Epoch 10/30\n",
      " - 16s - loss: 1.9797 - acc: 0.2235 - val_loss: 2.2900 - val_acc: 0.1395\n",
      "Epoch 11/30\n",
      " - 17s - loss: 1.8811 - acc: 0.2412 - val_loss: 2.0948 - val_acc: 0.1860\n",
      "Epoch 12/30\n",
      " - 16s - loss: 1.9407 - acc: 0.1941 - val_loss: 1.8977 - val_acc: 0.1163\n",
      "Epoch 13/30\n",
      " - 16s - loss: 1.9050 - acc: 0.2176 - val_loss: 1.8890 - val_acc: 0.1860\n",
      "Epoch 14/30\n",
      " - 17s - loss: 1.8711 - acc: 0.2353 - val_loss: 1.9000 - val_acc: 0.1628\n",
      "Epoch 15/30\n",
      " - 17s - loss: 1.8747 - acc: 0.2294 - val_loss: 2.0136 - val_acc: 0.1860\n",
      "Epoch 16/30\n",
      " - 17s - loss: 1.8230 - acc: 0.2471 - val_loss: 1.9091 - val_acc: 0.1395\n",
      "Epoch 17/30\n",
      " - 17s - loss: 1.8844 - acc: 0.2118 - val_loss: 1.8989 - val_acc: 0.1628\n",
      "Epoch 18/30\n",
      " - 16s - loss: 1.8548 - acc: 0.2235 - val_loss: 1.8633 - val_acc: 0.2093\n",
      "Epoch 19/30\n",
      " - 16s - loss: 1.8690 - acc: 0.2059 - val_loss: 1.9149 - val_acc: 0.1395\n",
      "Epoch 20/30\n",
      " - 17s - loss: 1.8824 - acc: 0.2176 - val_loss: 1.8421 - val_acc: 0.2093\n",
      "Epoch 21/30\n",
      " - 18s - loss: 1.9076 - acc: 0.2294 - val_loss: 1.8427 - val_acc: 0.1860\n",
      "Epoch 22/30\n",
      " - 17s - loss: 1.7854 - acc: 0.2706 - val_loss: 1.7889 - val_acc: 0.2093\n",
      "Epoch 23/30\n",
      " - 16s - loss: 1.7112 - acc: 0.2824 - val_loss: 1.7869 - val_acc: 0.2093\n",
      "Epoch 24/30\n",
      " - 16s - loss: 1.8442 - acc: 0.2765 - val_loss: 1.8780 - val_acc: 0.2093\n",
      "Epoch 25/30\n",
      " - 16s - loss: 1.7260 - acc: 0.3235 - val_loss: 1.7919 - val_acc: 0.1628\n",
      "Epoch 26/30\n",
      " - 16s - loss: 1.7380 - acc: 0.3118 - val_loss: 1.7583 - val_acc: 0.2326\n",
      "Epoch 27/30\n",
      " - 16s - loss: 1.8825 - acc: 0.2765 - val_loss: 1.7602 - val_acc: 0.2093\n",
      "Epoch 28/30\n",
      " - 16s - loss: 1.8167 - acc: 0.2471 - val_loss: 1.7563 - val_acc: 0.2791\n",
      "Epoch 29/30\n",
      " - 15s - loss: 1.7561 - acc: 0.3235 - val_loss: 1.7487 - val_acc: 0.2558\n",
      "Epoch 30/30\n",
      " - 15s - loss: 1.7835 - acc: 0.2588 - val_loss: 1.7410 - val_acc: 0.2326\n"
     ]
    },
    {
     "data": {
      "text/plain": [
       "<tensorflow.python.keras.callbacks.History at 0x138a65848d0>"
      ]
     },
     "execution_count": 186,
     "metadata": {},
     "output_type": "execute_result"
    }
   ],
   "source": [
    "cnn_model2.fit(X_train, y_train, validation_data=(X_test, y_test), epochs=30,batch_size=8, verbose=2)"
   ]
  },
  {
   "cell_type": "code",
   "execution_count": 187,
   "metadata": {},
   "outputs": [
    {
     "name": "stdout",
     "output_type": "stream",
     "text": [
      "Classification Error: 76.74%\n"
     ]
    }
   ],
   "source": [
    "scores = cnn_model2.evaluate(X_test, y_test, verbose=0)\n",
    "print(\"Classification Error: %.2f%%\" % (100-scores[1]*100))"
   ]
  },
  {
   "cell_type": "markdown",
   "metadata": {},
   "source": [
    "# Model 3"
   ]
  },
  {
   "cell_type": "code",
   "execution_count": 200,
   "metadata": {},
   "outputs": [],
   "source": [
    "def CNN3(num_classes):\n",
    "    model = Sequential()\n",
    "    model.add(Conv2D(32, kernel_size=(3, 3), activation='relu', input_shape=(W, H, 1)))\n",
    "    model.add(Conv2D(32, kernel_size=(3, 3), activation='relu', padding='same'))\n",
    "    model.add(BatchNormalization())\n",
    "    model.add(MaxPooling2D(pool_size=(2, 2), strides=(2, 2)))\n",
    "    model.add(Dropout(0.5))\n",
    "\n",
    "    model.add(Conv2D(2*32, kernel_size=(3, 3), activation='relu', padding='same'))\n",
    "    model.add(BatchNormalization())\n",
    "    model.add(Conv2D(2*32, kernel_size=(3, 3), activation='relu', padding='same'))\n",
    "    model.add(BatchNormalization())\n",
    "    model.add(MaxPooling2D(pool_size=(2, 2), strides=(2, 2)))\n",
    "    model.add(Dropout(0.5))\n",
    "\n",
    "    model.add(Conv2D(2*2*32, kernel_size=(3, 3), activation='relu', padding='same'))\n",
    "    model.add(BatchNormalization())\n",
    "    model.add(Conv2D(2*2*32, kernel_size=(3, 3), activation='relu', padding='same'))\n",
    "    model.add(BatchNormalization())\n",
    "    model.add(MaxPooling2D(pool_size=(2, 2), strides=(2, 2)))\n",
    "    model.add(Dropout(0.5))\n",
    "\n",
    "    model.add(Conv2D(2*2*2*32, kernel_size=(3, 3), activation='relu', padding='same'))\n",
    "    model.add(BatchNormalization())\n",
    "    model.add(Conv2D(2*2*2*32, kernel_size=(3, 3), activation='relu', padding='same'))\n",
    "    model.add(BatchNormalization())\n",
    "    model.add(MaxPooling2D(pool_size=(2, 2), strides=(2, 2)))\n",
    "    model.add(Dropout(0.5))\n",
    "\n",
    "    model.add(Flatten())\n",
    "\n",
    "    model.add(Dense(2*2*2*32, activation='relu'))\n",
    "    model.add(Dropout(0.4))\n",
    "    model.add(Dense(2*2*32, activation='relu'))\n",
    "    model.add(Dropout(0.4))\n",
    "    model.add(Dense(2*32, activation='relu'))\n",
    "    model.add(Dropout(0.5))\n",
    "    model.add(Dense(7, activation='softmax'))\n",
    "    model.compile(loss='sparse_categorical_crossentropy', optimizer='Adam',metrics=['accuracy'])\n",
    "    return model"
   ]
  },
  {
   "cell_type": "code",
   "execution_count": 201,
   "metadata": {},
   "outputs": [
    {
     "name": "stdout",
     "output_type": "stream",
     "text": [
      "_________________________________________________________________\n",
      "Layer (type)                 Output Shape              Param #   \n",
      "=================================================================\n",
      "conv2d_82 (Conv2D)           (None, 126, 126, 32)      320       \n",
      "_________________________________________________________________\n",
      "conv2d_83 (Conv2D)           (None, 126, 126, 32)      9248      \n",
      "_________________________________________________________________\n",
      "batch_normalization_v1_14 (B (None, 126, 126, 32)      128       \n",
      "_________________________________________________________________\n",
      "max_pooling2d_49 (MaxPooling (None, 63, 63, 32)        0         \n",
      "_________________________________________________________________\n",
      "dropout_65 (Dropout)         (None, 63, 63, 32)        0         \n",
      "_________________________________________________________________\n",
      "conv2d_84 (Conv2D)           (None, 63, 63, 64)        18496     \n",
      "_________________________________________________________________\n",
      "batch_normalization_v1_15 (B (None, 63, 63, 64)        256       \n",
      "_________________________________________________________________\n",
      "conv2d_85 (Conv2D)           (None, 63, 63, 64)        36928     \n",
      "_________________________________________________________________\n",
      "batch_normalization_v1_16 (B (None, 63, 63, 64)        256       \n",
      "_________________________________________________________________\n",
      "max_pooling2d_50 (MaxPooling (None, 31, 31, 64)        0         \n",
      "_________________________________________________________________\n",
      "dropout_66 (Dropout)         (None, 31, 31, 64)        0         \n",
      "_________________________________________________________________\n",
      "conv2d_86 (Conv2D)           (None, 31, 31, 128)       73856     \n",
      "_________________________________________________________________\n",
      "batch_normalization_v1_17 (B (None, 31, 31, 128)       512       \n",
      "_________________________________________________________________\n",
      "conv2d_87 (Conv2D)           (None, 31, 31, 128)       147584    \n",
      "_________________________________________________________________\n",
      "batch_normalization_v1_18 (B (None, 31, 31, 128)       512       \n",
      "_________________________________________________________________\n",
      "max_pooling2d_51 (MaxPooling (None, 15, 15, 128)       0         \n",
      "_________________________________________________________________\n",
      "dropout_67 (Dropout)         (None, 15, 15, 128)       0         \n",
      "_________________________________________________________________\n",
      "conv2d_88 (Conv2D)           (None, 15, 15, 256)       295168    \n",
      "_________________________________________________________________\n",
      "batch_normalization_v1_19 (B (None, 15, 15, 256)       1024      \n",
      "_________________________________________________________________\n",
      "conv2d_89 (Conv2D)           (None, 15, 15, 256)       590080    \n",
      "_________________________________________________________________\n",
      "batch_normalization_v1_20 (B (None, 15, 15, 256)       1024      \n",
      "_________________________________________________________________\n",
      "max_pooling2d_52 (MaxPooling (None, 7, 7, 256)         0         \n",
      "_________________________________________________________________\n",
      "dropout_68 (Dropout)         (None, 7, 7, 256)         0         \n",
      "_________________________________________________________________\n",
      "flatten_21 (Flatten)         (None, 12544)             0         \n",
      "_________________________________________________________________\n",
      "dense_78 (Dense)             (None, 256)               3211520   \n",
      "_________________________________________________________________\n",
      "dropout_69 (Dropout)         (None, 256)               0         \n",
      "_________________________________________________________________\n",
      "dense_79 (Dense)             (None, 128)               32896     \n",
      "_________________________________________________________________\n",
      "dropout_70 (Dropout)         (None, 128)               0         \n",
      "_________________________________________________________________\n",
      "dense_80 (Dense)             (None, 64)                8256      \n",
      "_________________________________________________________________\n",
      "dropout_71 (Dropout)         (None, 64)                0         \n",
      "_________________________________________________________________\n",
      "dense_81 (Dense)             (None, 7)                 455       \n",
      "=================================================================\n",
      "Total params: 4,428,519\n",
      "Trainable params: 4,426,663\n",
      "Non-trainable params: 1,856\n",
      "_________________________________________________________________\n"
     ]
    }
   ],
   "source": [
    "cnn_model3 = CNN3(7)\n",
    "cnn_model3.summary()"
   ]
  },
  {
   "cell_type": "code",
   "execution_count": null,
   "metadata": {},
   "outputs": [
    {
     "name": "stdout",
     "output_type": "stream",
     "text": [
      "Train on 170 samples, validate on 43 samples\n",
      "Epoch 1/30\n"
     ]
    }
   ],
   "source": [
    "cnn_model3.fit(X_train, y_train, validation_data=(X_test, y_test), epochs=30,batch_size=8, verbose=2)"
   ]
  },
  {
   "cell_type": "code",
   "execution_count": null,
   "metadata": {},
   "outputs": [],
   "source": [
    "scores = cnn_model3.evaluate(X_test, y_test, verbose=0)\n",
    "print(\"Classification Error: %.2f%%\" % (100-scores[1]*100))"
   ]
  },
  {
   "cell_type": "code",
   "execution_count": null,
   "metadata": {},
   "outputs": [],
   "source": []
  }
 ],
 "metadata": {
  "kernelspec": {
   "display_name": "Python 3",
   "language": "python",
   "name": "python3"
  },
  "language_info": {
   "codemirror_mode": {
    "name": "ipython",
    "version": 3
   },
   "file_extension": ".py",
   "mimetype": "text/x-python",
   "name": "python",
   "nbconvert_exporter": "python",
   "pygments_lexer": "ipython3",
   "version": "3.7.1"
  }
 },
 "nbformat": 4,
 "nbformat_minor": 2
}
