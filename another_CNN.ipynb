{
 "cells": [
  {
   "cell_type": "code",
   "execution_count": 220,
   "metadata": {},
   "outputs": [],
   "source": [
    "import tensorflow as tf\n",
    "from tensorflow.keras.models import Sequential\n",
    "from tensorflow.keras.layers import Dense, Dropout, Flatten, BatchNormalization\n",
    "from tensorflow.keras.layers import Conv2D, MaxPooling2D, AveragePooling2D\n",
    "import numpy as np"
   ]
  },
  {
   "cell_type": "code",
   "execution_count": 221,
   "metadata": {},
   "outputs": [],
   "source": [
    "import os\n",
    "import cv2"
   ]
  },
  {
   "cell_type": "code",
   "execution_count": 222,
   "metadata": {},
   "outputs": [],
   "source": [
    "import pandas as pd"
   ]
  },
  {
   "cell_type": "code",
   "execution_count": 223,
   "metadata": {},
   "outputs": [],
   "source": [
    "sources = [\"https://towardsdatascience.com/build-your-own-convolution-neural-network-in-5-mins-4217c2cf964f\"]"
   ]
  },
  {
   "cell_type": "code",
   "execution_count": 224,
   "metadata": {},
   "outputs": [],
   "source": [
    "image_root = 'Making-Learning/dataset/jaffe/'\n",
    "image_title = os.listdir(image_root)\n",
    "image_dirs = [image_root + x for x in os.listdir(image_root)]"
   ]
  },
  {
   "cell_type": "code",
   "execution_count": 225,
   "metadata": {},
   "outputs": [],
   "source": [
    "H = 128\n",
    "W = 128\n",
    "def read_image(file_path):\n",
    "    img = cv2.imread(file_path, cv2.IMREAD_GRAYSCALE)\n",
    "    dimension = (H,W)\n",
    "    resized = cv2.resize(img, dimension)\n",
    "    return resized\n",
    "def prep_data(images):\n",
    "    count = len(images)\n",
    "    data = np.ndarray((count, 1, H, W), dtype=np.uint8)\n",
    "    for i, image_file in enumerate(images):\n",
    "        image = read_image(image_file)\n",
    "        data[i] = image\n",
    "        if i%50 == 0: print('Processed {} of {}'.format(i, count))\n",
    "    return data"
   ]
  },
  {
   "cell_type": "code",
   "execution_count": 226,
   "metadata": {},
   "outputs": [],
   "source": [
    "image_dirs.remove('Making-Learning/dataset/jaffe/.ipynb_checkpoints')\n",
    "image_dirs.remove('Making-Learning/dataset/jaffe/Untitled.ipynb')"
   ]
  },
  {
   "cell_type": "code",
   "execution_count": 227,
   "metadata": {},
   "outputs": [
    {
     "name": "stdout",
     "output_type": "stream",
     "text": [
      "Processed 0 of 213\n",
      "Processed 50 of 213\n",
      "Processed 100 of 213\n",
      "Processed 150 of 213\n",
      "Processed 200 of 213\n"
     ]
    }
   ],
   "source": [
    "images = prep_data(image_dirs)"
   ]
  },
  {
   "cell_type": "code",
   "execution_count": 228,
   "metadata": {},
   "outputs": [],
   "source": [
    "image_labels = np.array([title[3:5] for title in image_title])"
   ]
  },
  {
   "cell_type": "code",
   "execution_count": 229,
   "metadata": {},
   "outputs": [],
   "source": [
    "labels = []\n",
    "for i, label in enumerate(image_labels):\n",
    "    if label == 'AN':\n",
    "        labels.append(0)\n",
    "    if label == 'DI':\n",
    "        labels.append(1)\n",
    "    if label == 'FE':\n",
    "        labels.append(2)\n",
    "    if label == 'SU':\n",
    "        labels.append(3)\n",
    "    if label == 'SA':\n",
    "        labels.append(4)\n",
    "    if label == 'HA':\n",
    "        labels.append(5)\n",
    "    if label == 'NE':\n",
    "        labels.append(6)"
   ]
  },
  {
   "cell_type": "code",
   "execution_count": 230,
   "metadata": {},
   "outputs": [],
   "source": [
    "from sklearn.model_selection import train_test_split\n",
    "from tensorflow.keras.utils import to_categorical\n",
    " \n",
    "X_train, X_test, y_train, y_test = train_test_split(images, labels, test_size=0.20, random_state=69)\n",
    "\n",
    "X_train = X_train.reshape(X_train.shape[0], H, W, 1)\n",
    "X_test = X_test.reshape(X_test.shape[0], H, W, 1)"
   ]
  },
  {
   "cell_type": "markdown",
   "metadata": {},
   "source": [
    "# Model 1"
   ]
  },
  {
   "cell_type": "code",
   "execution_count": 231,
   "metadata": {},
   "outputs": [],
   "source": [
    "def CNN1(num_classes):\n",
    "    model = Sequential()\n",
    "    model.add(Conv2D(32, kernel_size=(3, 3),\n",
    "                     activation='relu',\n",
    "                     input_shape=(H,W,1)))\n",
    "    model.add(Conv2D(64, (3, 3), activation='relu'))\n",
    "    model.add(MaxPooling2D(pool_size=(2, 2)))\n",
    "    model.add(Dropout(0.25))\n",
    "    model.add(Flatten())\n",
    "    model.add(Dense(128, activation='relu'))\n",
    "    model.add(Dropout(0.5))\n",
    "    model.add(Dense(num_classes, activation='softmax'))\n",
    "    model.compile(loss='sparse_categorical_crossentropy', optimizer='Adadelta',metrics=['accuracy'])\n",
    "    return model"
   ]
  },
  {
   "cell_type": "code",
   "execution_count": 232,
   "metadata": {},
   "outputs": [],
   "source": [
    "cnn_model = CNN1(7)"
   ]
  },
  {
   "cell_type": "code",
   "execution_count": 233,
   "metadata": {},
   "outputs": [
    {
     "name": "stdout",
     "output_type": "stream",
     "text": [
      "_________________________________________________________________\n",
      "Layer (type)                 Output Shape              Param #   \n",
      "=================================================================\n",
      "conv2d_98 (Conv2D)           (None, 126, 126, 32)      320       \n",
      "_________________________________________________________________\n",
      "conv2d_99 (Conv2D)           (None, 124, 124, 64)      18496     \n",
      "_________________________________________________________________\n",
      "max_pooling2d_58 (MaxPooling (None, 62, 62, 64)        0         \n",
      "_________________________________________________________________\n",
      "dropout_78 (Dropout)         (None, 62, 62, 64)        0         \n",
      "_________________________________________________________________\n",
      "flatten_25 (Flatten)         (None, 246016)            0         \n",
      "_________________________________________________________________\n",
      "dense_90 (Dense)             (None, 128)               31490176  \n",
      "_________________________________________________________________\n",
      "dropout_79 (Dropout)         (None, 128)               0         \n",
      "_________________________________________________________________\n",
      "dense_91 (Dense)             (None, 7)                 903       \n",
      "=================================================================\n",
      "Total params: 31,509,895\n",
      "Trainable params: 31,509,895\n",
      "Non-trainable params: 0\n",
      "_________________________________________________________________\n"
     ]
    }
   ],
   "source": [
    "cnn_model.summary()"
   ]
  },
  {
   "cell_type": "code",
   "execution_count": 234,
   "metadata": {},
   "outputs": [
    {
     "name": "stdout",
     "output_type": "stream",
     "text": [
      "Train on 170 samples, validate on 43 samples\n",
      "Epoch 1/30\n",
      " - 20s - loss: 14.1270 - acc: 0.1235 - val_loss: 13.4942 - val_acc: 0.1628\n",
      "Epoch 2/30\n",
      " - 18s - loss: 13.5592 - acc: 0.1588 - val_loss: 13.4942 - val_acc: 0.1628\n",
      "Epoch 3/30\n",
      " - 19s - loss: 14.2218 - acc: 0.1176 - val_loss: 13.4942 - val_acc: 0.1628\n",
      "Epoch 4/30\n",
      " - 19s - loss: 13.8426 - acc: 0.1412 - val_loss: 13.4942 - val_acc: 0.1628\n",
      "Epoch 5/30\n",
      " - 16s - loss: 13.8426 - acc: 0.1412 - val_loss: 13.4942 - val_acc: 0.1628\n",
      "Epoch 6/30\n",
      " - 16s - loss: 14.0322 - acc: 0.1294 - val_loss: 13.4942 - val_acc: 0.1628\n",
      "Epoch 7/30\n",
      " - 17s - loss: 13.8426 - acc: 0.1412 - val_loss: 13.4942 - val_acc: 0.1628\n",
      "Epoch 8/30\n",
      " - 17s - loss: 13.9374 - acc: 0.1353 - val_loss: 13.4942 - val_acc: 0.1628\n",
      "Epoch 9/30\n",
      " - 18s - loss: 13.8229 - acc: 0.1412 - val_loss: 13.4942 - val_acc: 0.1628\n",
      "Epoch 10/30\n",
      " - 17s - loss: 13.4634 - acc: 0.1647 - val_loss: 13.4942 - val_acc: 0.1628\n",
      "Epoch 11/30\n",
      " - 17s - loss: 13.8426 - acc: 0.1412 - val_loss: 13.4942 - val_acc: 0.1628\n",
      "Epoch 12/30\n",
      " - 18s - loss: 13.6530 - acc: 0.1529 - val_loss: 13.4942 - val_acc: 0.1628\n",
      "Epoch 13/30\n",
      " - 17s - loss: 14.0996 - acc: 0.1235 - val_loss: 13.4942 - val_acc: 0.1628\n",
      "Epoch 14/30\n",
      " - 17s - loss: 13.3685 - acc: 0.1706 - val_loss: 13.4942 - val_acc: 0.1628\n",
      "Epoch 15/30\n",
      " - 16s - loss: 13.4634 - acc: 0.1647 - val_loss: 13.4942 - val_acc: 0.1628\n",
      "Epoch 16/30\n",
      " - 16s - loss: 13.7458 - acc: 0.1471 - val_loss: 13.4942 - val_acc: 0.1628\n",
      "Epoch 17/30\n",
      " - 18s - loss: 14.1457 - acc: 0.1176 - val_loss: 14.6187 - val_acc: 0.0930\n",
      "Epoch 18/30\n",
      " - 18s - loss: 14.0322 - acc: 0.1294 - val_loss: 14.6187 - val_acc: 0.0930\n",
      "Epoch 19/30\n",
      " - 17s - loss: 13.7478 - acc: 0.1471 - val_loss: 14.6187 - val_acc: 0.0930\n",
      "Epoch 20/30\n",
      " - 17s - loss: 14.2218 - acc: 0.1176 - val_loss: 14.6187 - val_acc: 0.0930\n",
      "Epoch 21/30\n",
      " - 17s - loss: 14.0322 - acc: 0.1294 - val_loss: 14.6187 - val_acc: 0.0930\n",
      "Epoch 22/30\n",
      " - 19s - loss: 14.1270 - acc: 0.1235 - val_loss: 14.6187 - val_acc: 0.0930\n",
      "Epoch 23/30\n",
      " - 19s - loss: 13.0841 - acc: 0.1882 - val_loss: 14.6187 - val_acc: 0.0930\n",
      "Epoch 24/30\n",
      " - 17s - loss: 13.4634 - acc: 0.1647 - val_loss: 14.6187 - val_acc: 0.0930\n",
      "Epoch 25/30\n",
      " - 17s - loss: 13.9374 - acc: 0.1353 - val_loss: 14.6187 - val_acc: 0.0930\n",
      "Epoch 26/30\n",
      " - 17s - loss: 14.0322 - acc: 0.1294 - val_loss: 14.6187 - val_acc: 0.0930\n",
      "Epoch 27/30\n",
      " - 19s - loss: 14.4115 - acc: 0.1059 - val_loss: 14.6187 - val_acc: 0.0930\n",
      "Epoch 28/30\n",
      " - 18s - loss: 13.5582 - acc: 0.1588 - val_loss: 14.6187 - val_acc: 0.0930\n",
      "Epoch 29/30\n",
      " - 18s - loss: 13.2737 - acc: 0.1765 - val_loss: 14.6187 - val_acc: 0.0930\n",
      "Epoch 30/30\n",
      " - 17s - loss: 13.5582 - acc: 0.1588 - val_loss: 14.6187 - val_acc: 0.0930\n"
     ]
    },
    {
     "data": {
      "text/plain": [
       "<tensorflow.python.keras.callbacks.History at 0x138e7037080>"
      ]
     },
     "execution_count": 234,
     "metadata": {},
     "output_type": "execute_result"
    }
   ],
   "source": [
    "cnn_model.fit(X_train, y_train, validation_data=(X_test, y_test), epochs=30,batch_size=8, verbose=2)"
   ]
  },
  {
   "cell_type": "code",
   "execution_count": 235,
   "metadata": {},
   "outputs": [
    {
     "name": "stdout",
     "output_type": "stream",
     "text": [
      "Classification Error: 90.70%\n"
     ]
    }
   ],
   "source": [
    "scores = cnn_model.evaluate(X_test, y_test, verbose=0)\n",
    "print(\"Classification Error: %.2f%%\" % (100-scores[1]*100))"
   ]
  },
  {
   "cell_type": "markdown",
   "metadata": {},
   "source": [
    "## Model 2"
   ]
  },
  {
   "cell_type": "code",
   "execution_count": 210,
   "metadata": {},
   "outputs": [],
   "source": [
    "def CNN2(num_classes):\n",
    "    model = Sequential()\n",
    "    model.add(Conv2D(64, kernel_size=(5, 5),\n",
    "                     activation='relu',\n",
    "                     input_shape=(H,W,1)))\n",
    "    model.add(BatchNormalization())\n",
    "    model.add(AveragePooling2D())\n",
    "    model.add(Conv2D(32, kernel_size=(5, 5), activation='relu'))\n",
    "    model.add(BatchNormalization())\n",
    "    model.add(MaxPooling2D())\n",
    "    model.add(Conv2D(32, kernel_size=(3,3), activation='relu'))\n",
    "    model.add(BatchNormalization())\n",
    "    model.add(MaxPooling2D())\n",
    "    model.add(Flatten())\n",
    "    model.add(Dense(256, activation='relu'))\n",
    "    model.add(Dropout(0.5))\n",
    "    model.add(Dense(128, activation='relu'))\n",
    "    model.add(Dropout(0.5))\n",
    "    model.add(Dense(num_classes, activation='softmax'))\n",
    "    model.compile(loss='sparse_categorical_crossentropy', optimizer='Adadelta',metrics=['accuracy'])\n",
    "    return model"
   ]
  },
  {
   "cell_type": "code",
   "execution_count": 211,
   "metadata": {},
   "outputs": [],
   "source": [
    "cnn_model2 = CNN2(7)"
   ]
  },
  {
   "cell_type": "code",
   "execution_count": 212,
   "metadata": {},
   "outputs": [
    {
     "name": "stdout",
     "output_type": "stream",
     "text": [
      "_________________________________________________________________\n",
      "Layer (type)                 Output Shape              Param #   \n",
      "=================================================================\n",
      "conv2d_93 (Conv2D)           (None, 124, 124, 64)      1664      \n",
      "_________________________________________________________________\n",
      "batch_normalization_v1_23 (B (None, 124, 124, 64)      256       \n",
      "_________________________________________________________________\n",
      "average_pooling2d_14 (Averag (None, 62, 62, 64)        0         \n",
      "_________________________________________________________________\n",
      "conv2d_94 (Conv2D)           (None, 58, 58, 32)        51232     \n",
      "_________________________________________________________________\n",
      "batch_normalization_v1_24 (B (None, 58, 58, 32)        128       \n",
      "_________________________________________________________________\n",
      "max_pooling2d_55 (MaxPooling (None, 29, 29, 32)        0         \n",
      "_________________________________________________________________\n",
      "conv2d_95 (Conv2D)           (None, 27, 27, 32)        9248      \n",
      "_________________________________________________________________\n",
      "batch_normalization_v1_25 (B (None, 27, 27, 32)        128       \n",
      "_________________________________________________________________\n",
      "max_pooling2d_56 (MaxPooling (None, 13, 13, 32)        0         \n",
      "_________________________________________________________________\n",
      "flatten_23 (Flatten)         (None, 5408)              0         \n",
      "_________________________________________________________________\n",
      "dense_85 (Dense)             (None, 256)               1384704   \n",
      "_________________________________________________________________\n",
      "dropout_74 (Dropout)         (None, 256)               0         \n",
      "_________________________________________________________________\n",
      "dense_86 (Dense)             (None, 128)               32896     \n",
      "_________________________________________________________________\n",
      "dropout_75 (Dropout)         (None, 128)               0         \n",
      "_________________________________________________________________\n",
      "dense_87 (Dense)             (None, 7)                 903       \n",
      "=================================================================\n",
      "Total params: 1,481,159\n",
      "Trainable params: 1,480,903\n",
      "Non-trainable params: 256\n",
      "_________________________________________________________________\n"
     ]
    }
   ],
   "source": [
    "cnn_model2.summary()"
   ]
  },
  {
   "cell_type": "code",
   "execution_count": 213,
   "metadata": {},
   "outputs": [
    {
     "name": "stdout",
     "output_type": "stream",
     "text": [
      "Train on 170 samples, validate on 43 samples\n",
      "Epoch 1/30\n",
      " - 24s - loss: 7.2038 - acc: 0.1176 - val_loss: 10.0676 - val_acc: 0.1628\n",
      "Epoch 2/30\n",
      " - 16s - loss: 4.0125 - acc: 0.1529 - val_loss: 3.3153 - val_acc: 0.2326\n",
      "Epoch 3/30\n",
      " - 16s - loss: 2.3313 - acc: 0.1588 - val_loss: 2.6221 - val_acc: 0.1860\n",
      "Epoch 4/30\n",
      " - 16s - loss: 1.9954 - acc: 0.2176 - val_loss: 2.5093 - val_acc: 0.1628\n",
      "Epoch 5/30\n",
      " - 16s - loss: 1.9723 - acc: 0.1824 - val_loss: 2.2752 - val_acc: 0.0930\n",
      "Epoch 6/30\n",
      " - 16s - loss: 1.9185 - acc: 0.2235 - val_loss: 1.9058 - val_acc: 0.1860\n",
      "Epoch 7/30\n",
      " - 16s - loss: 1.9797 - acc: 0.2059 - val_loss: 2.0506 - val_acc: 0.2791\n",
      "Epoch 8/30\n",
      " - 16s - loss: 1.9598 - acc: 0.1941 - val_loss: 1.9008 - val_acc: 0.2326\n",
      "Epoch 9/30\n",
      " - 16s - loss: 1.9251 - acc: 0.1588 - val_loss: 1.8980 - val_acc: 0.2326\n",
      "Epoch 10/30\n",
      " - 16s - loss: 1.9876 - acc: 0.1882 - val_loss: 1.8721 - val_acc: 0.1395\n",
      "Epoch 11/30\n",
      " - 15s - loss: 1.9764 - acc: 0.2294 - val_loss: 1.8439 - val_acc: 0.2093\n",
      "Epoch 12/30\n",
      " - 16s - loss: 1.9414 - acc: 0.1824 - val_loss: 1.8791 - val_acc: 0.2093\n",
      "Epoch 13/30\n",
      " - 16s - loss: 1.8345 - acc: 0.2353 - val_loss: 1.9283 - val_acc: 0.0930\n",
      "Epoch 14/30\n",
      " - 15s - loss: 1.8829 - acc: 0.2059 - val_loss: 1.8636 - val_acc: 0.1860\n",
      "Epoch 15/30\n",
      " - 15s - loss: 1.8725 - acc: 0.1941 - val_loss: 1.9111 - val_acc: 0.1395\n",
      "Epoch 16/30\n",
      " - 15s - loss: 1.8269 - acc: 0.2059 - val_loss: 1.8882 - val_acc: 0.1395\n",
      "Epoch 17/30\n",
      " - 15s - loss: 1.9014 - acc: 0.2353 - val_loss: 1.8442 - val_acc: 0.2558\n",
      "Epoch 18/30\n",
      " - 16s - loss: 1.9593 - acc: 0.2118 - val_loss: 1.8782 - val_acc: 0.2093\n",
      "Epoch 19/30\n",
      " - 16s - loss: 1.8588 - acc: 0.2000 - val_loss: 1.8419 - val_acc: 0.2791\n",
      "Epoch 20/30\n",
      " - 16s - loss: 1.8551 - acc: 0.2235 - val_loss: 1.8211 - val_acc: 0.2326\n",
      "Epoch 21/30\n",
      " - 15s - loss: 2.0253 - acc: 0.2118 - val_loss: 1.8953 - val_acc: 0.1628\n",
      "Epoch 22/30\n",
      " - 16s - loss: 1.8983 - acc: 0.2118 - val_loss: 1.8659 - val_acc: 0.1628\n",
      "Epoch 23/30\n",
      " - 16s - loss: 1.8729 - acc: 0.2176 - val_loss: 1.8581 - val_acc: 0.1395\n",
      "Epoch 24/30\n",
      " - 16s - loss: 1.8763 - acc: 0.2294 - val_loss: 1.9886 - val_acc: 0.2093\n",
      "Epoch 25/30\n",
      " - 16s - loss: 1.8095 - acc: 0.2471 - val_loss: 1.8850 - val_acc: 0.1628\n",
      "Epoch 26/30\n",
      " - 16s - loss: 1.7371 - acc: 0.2882 - val_loss: 1.8595 - val_acc: 0.1628\n",
      "Epoch 27/30\n",
      " - 15s - loss: 1.7951 - acc: 0.2353 - val_loss: 1.8532 - val_acc: 0.1163\n",
      "Epoch 28/30\n",
      " - 15s - loss: 1.8412 - acc: 0.2529 - val_loss: 1.8400 - val_acc: 0.1163\n",
      "Epoch 29/30\n",
      " - 16s - loss: 1.7349 - acc: 0.3059 - val_loss: 1.8347 - val_acc: 0.1860\n",
      "Epoch 30/30\n",
      " - 15s - loss: 1.8131 - acc: 0.2529 - val_loss: 1.8870 - val_acc: 0.1860\n"
     ]
    },
    {
     "data": {
      "text/plain": [
       "<tensorflow.python.keras.callbacks.History at 0x1388773f400>"
      ]
     },
     "execution_count": 213,
     "metadata": {},
     "output_type": "execute_result"
    }
   ],
   "source": [
    "cnn_model2.fit(X_train, y_train, validation_data=(X_test, y_test), epochs=30,batch_size=8, verbose=2)"
   ]
  },
  {
   "cell_type": "code",
   "execution_count": 214,
   "metadata": {},
   "outputs": [
    {
     "name": "stdout",
     "output_type": "stream",
     "text": [
      "Classification Error: 81.40%\n"
     ]
    }
   ],
   "source": [
    "scores = cnn_model2.evaluate(X_test, y_test, verbose=0)\n",
    "print(\"Classification Error: %.2f%%\" % (100-scores[1]*100))"
   ]
  },
  {
   "cell_type": "markdown",
   "metadata": {},
   "source": [
    "# Model 3"
   ]
  },
  {
   "cell_type": "code",
   "execution_count": 200,
   "metadata": {},
   "outputs": [],
   "source": [
    "def CNN3(num_classes):\n",
    "    model = Sequential()\n",
    "    model.add(Conv2D(32, kernel_size=(3, 3), activation='relu', input_shape=(W, H, 1)))\n",
    "    model.add(Conv2D(32, kernel_size=(3, 3), activation='relu', padding='same'))\n",
    "    model.add(BatchNormalization())\n",
    "    model.add(MaxPooling2D(pool_size=(2, 2), strides=(2, 2)))\n",
    "    model.add(Dropout(0.5))\n",
    "\n",
    "    model.add(Conv2D(2*32, kernel_size=(3, 3), activation='relu', padding='same'))\n",
    "    model.add(BatchNormalization())\n",
    "    model.add(Conv2D(2*32, kernel_size=(3, 3), activation='relu', padding='same'))\n",
    "    model.add(BatchNormalization())\n",
    "    model.add(MaxPooling2D(pool_size=(2, 2), strides=(2, 2)))\n",
    "    model.add(Dropout(0.5))\n",
    "\n",
    "    model.add(Conv2D(2*2*32, kernel_size=(3, 3), activation='relu', padding='same'))\n",
    "    model.add(BatchNormalization())\n",
    "    model.add(Conv2D(2*2*32, kernel_size=(3, 3), activation='relu', padding='same'))\n",
    "    model.add(BatchNormalization())\n",
    "    model.add(MaxPooling2D(pool_size=(2, 2), strides=(2, 2)))\n",
    "    model.add(Dropout(0.5))\n",
    "\n",
    "    model.add(Conv2D(2*2*2*32, kernel_size=(3, 3), activation='relu', padding='same'))\n",
    "    model.add(BatchNormalization())\n",
    "    model.add(Conv2D(2*2*2*32, kernel_size=(3, 3), activation='relu', padding='same'))\n",
    "    model.add(BatchNormalization())\n",
    "    model.add(MaxPooling2D(pool_size=(2, 2), strides=(2, 2)))\n",
    "    model.add(Dropout(0.5))\n",
    "\n",
    "    model.add(Flatten())\n",
    "\n",
    "    model.add(Dense(2*2*2*32, activation='relu'))\n",
    "    model.add(Dropout(0.4))\n",
    "    model.add(Dense(2*2*32, activation='relu'))\n",
    "    model.add(Dropout(0.4))\n",
    "    model.add(Dense(2*32, activation='relu'))\n",
    "    model.add(Dropout(0.5))\n",
    "    model.add(Dense(7, activation='softmax'))\n",
    "    model.compile(loss='sparse_categorical_crossentropy', optimizer='Adam',metrics=['accuracy'])\n",
    "    return model"
   ]
  },
  {
   "cell_type": "code",
   "execution_count": 201,
   "metadata": {},
   "outputs": [
    {
     "name": "stdout",
     "output_type": "stream",
     "text": [
      "_________________________________________________________________\n",
      "Layer (type)                 Output Shape              Param #   \n",
      "=================================================================\n",
      "conv2d_82 (Conv2D)           (None, 126, 126, 32)      320       \n",
      "_________________________________________________________________\n",
      "conv2d_83 (Conv2D)           (None, 126, 126, 32)      9248      \n",
      "_________________________________________________________________\n",
      "batch_normalization_v1_14 (B (None, 126, 126, 32)      128       \n",
      "_________________________________________________________________\n",
      "max_pooling2d_49 (MaxPooling (None, 63, 63, 32)        0         \n",
      "_________________________________________________________________\n",
      "dropout_65 (Dropout)         (None, 63, 63, 32)        0         \n",
      "_________________________________________________________________\n",
      "conv2d_84 (Conv2D)           (None, 63, 63, 64)        18496     \n",
      "_________________________________________________________________\n",
      "batch_normalization_v1_15 (B (None, 63, 63, 64)        256       \n",
      "_________________________________________________________________\n",
      "conv2d_85 (Conv2D)           (None, 63, 63, 64)        36928     \n",
      "_________________________________________________________________\n",
      "batch_normalization_v1_16 (B (None, 63, 63, 64)        256       \n",
      "_________________________________________________________________\n",
      "max_pooling2d_50 (MaxPooling (None, 31, 31, 64)        0         \n",
      "_________________________________________________________________\n",
      "dropout_66 (Dropout)         (None, 31, 31, 64)        0         \n",
      "_________________________________________________________________\n",
      "conv2d_86 (Conv2D)           (None, 31, 31, 128)       73856     \n",
      "_________________________________________________________________\n",
      "batch_normalization_v1_17 (B (None, 31, 31, 128)       512       \n",
      "_________________________________________________________________\n",
      "conv2d_87 (Conv2D)           (None, 31, 31, 128)       147584    \n",
      "_________________________________________________________________\n",
      "batch_normalization_v1_18 (B (None, 31, 31, 128)       512       \n",
      "_________________________________________________________________\n",
      "max_pooling2d_51 (MaxPooling (None, 15, 15, 128)       0         \n",
      "_________________________________________________________________\n",
      "dropout_67 (Dropout)         (None, 15, 15, 128)       0         \n",
      "_________________________________________________________________\n",
      "conv2d_88 (Conv2D)           (None, 15, 15, 256)       295168    \n",
      "_________________________________________________________________\n",
      "batch_normalization_v1_19 (B (None, 15, 15, 256)       1024      \n",
      "_________________________________________________________________\n",
      "conv2d_89 (Conv2D)           (None, 15, 15, 256)       590080    \n",
      "_________________________________________________________________\n",
      "batch_normalization_v1_20 (B (None, 15, 15, 256)       1024      \n",
      "_________________________________________________________________\n",
      "max_pooling2d_52 (MaxPooling (None, 7, 7, 256)         0         \n",
      "_________________________________________________________________\n",
      "dropout_68 (Dropout)         (None, 7, 7, 256)         0         \n",
      "_________________________________________________________________\n",
      "flatten_21 (Flatten)         (None, 12544)             0         \n",
      "_________________________________________________________________\n",
      "dense_78 (Dense)             (None, 256)               3211520   \n",
      "_________________________________________________________________\n",
      "dropout_69 (Dropout)         (None, 256)               0         \n",
      "_________________________________________________________________\n",
      "dense_79 (Dense)             (None, 128)               32896     \n",
      "_________________________________________________________________\n",
      "dropout_70 (Dropout)         (None, 128)               0         \n",
      "_________________________________________________________________\n",
      "dense_80 (Dense)             (None, 64)                8256      \n",
      "_________________________________________________________________\n",
      "dropout_71 (Dropout)         (None, 64)                0         \n",
      "_________________________________________________________________\n",
      "dense_81 (Dense)             (None, 7)                 455       \n",
      "=================================================================\n",
      "Total params: 4,428,519\n",
      "Trainable params: 4,426,663\n",
      "Non-trainable params: 1,856\n",
      "_________________________________________________________________\n"
     ]
    }
   ],
   "source": [
    "cnn_model3 = CNN3(7)\n",
    "cnn_model3.summary()"
   ]
  },
  {
   "cell_type": "code",
   "execution_count": 202,
   "metadata": {},
   "outputs": [
    {
     "name": "stdout",
     "output_type": "stream",
     "text": [
      "Train on 170 samples, validate on 43 samples\n",
      "Epoch 1/30\n",
      " - 26s - loss: 11.2035 - acc: 0.1235 - val_loss: 5.4284 - val_acc: 0.2326\n",
      "Epoch 2/30\n",
      " - 22s - loss: 10.7625 - acc: 0.1882 - val_loss: 9.0751 - val_acc: 0.1860\n",
      "Epoch 3/30\n",
      " - 20s - loss: 10.6141 - acc: 0.1294 - val_loss: 13.0640 - val_acc: 0.0930\n",
      "Epoch 4/30\n",
      " - 20s - loss: 11.1744 - acc: 0.1529 - val_loss: 13.9091 - val_acc: 0.0930\n",
      "Epoch 5/30\n",
      " - 20s - loss: 10.4259 - acc: 0.1471 - val_loss: 6.0177 - val_acc: 0.1395\n",
      "Epoch 6/30\n",
      " - 20s - loss: 8.6015 - acc: 0.1941 - val_loss: 5.0060 - val_acc: 0.0698\n",
      "Epoch 7/30\n",
      " - 22s - loss: 7.4830 - acc: 0.1294 - val_loss: 2.7470 - val_acc: 0.0698\n",
      "Epoch 8/30\n",
      " - 21s - loss: 6.0156 - acc: 0.1647 - val_loss: 2.9747 - val_acc: 0.0698\n",
      "Epoch 9/30\n",
      " - 22s - loss: 6.8787 - acc: 0.1471 - val_loss: 4.8016 - val_acc: 0.1395\n",
      "Epoch 10/30\n",
      " - 22s - loss: 5.9504 - acc: 0.1882 - val_loss: 3.0044 - val_acc: 0.1163\n",
      "Epoch 11/30\n",
      " - 22s - loss: 4.7840 - acc: 0.1176 - val_loss: 2.3030 - val_acc: 0.1628\n",
      "Epoch 12/30\n",
      " - 22s - loss: 4.0981 - acc: 0.1941 - val_loss: 2.2001 - val_acc: 0.1163\n",
      "Epoch 13/30\n",
      " - 21s - loss: 2.9023 - acc: 0.1176 - val_loss: 1.9593 - val_acc: 0.1628\n",
      "Epoch 14/30\n",
      " - 21s - loss: 2.6771 - acc: 0.1412 - val_loss: 1.9839 - val_acc: 0.1628\n",
      "Epoch 15/30\n",
      " - 20s - loss: 2.6189 - acc: 0.1588 - val_loss: 1.9866 - val_acc: 0.0698\n",
      "Epoch 16/30\n",
      " - 23s - loss: 2.4172 - acc: 0.1588 - val_loss: 1.9707 - val_acc: 0.0698\n",
      "Epoch 17/30\n",
      " - 22s - loss: 2.1597 - acc: 0.1412 - val_loss: 1.9642 - val_acc: 0.1163\n",
      "Epoch 18/30\n",
      " - 22s - loss: 1.9796 - acc: 0.1353 - val_loss: 1.9533 - val_acc: 0.1628\n",
      "Epoch 19/30\n",
      " - 21s - loss: 1.9903 - acc: 0.1529 - val_loss: 1.9534 - val_acc: 0.0930\n",
      "Epoch 20/30\n",
      " - 21s - loss: 1.9492 - acc: 0.1706 - val_loss: 1.9531 - val_acc: 0.1163\n",
      "Epoch 21/30\n",
      " - 21s - loss: 1.9522 - acc: 0.1176 - val_loss: 1.9566 - val_acc: 0.1163\n",
      "Epoch 22/30\n",
      " - 21s - loss: 1.9550 - acc: 0.1824 - val_loss: 1.9601 - val_acc: 0.1395\n",
      "Epoch 23/30\n",
      " - 22s - loss: 1.9502 - acc: 0.1647 - val_loss: 1.9571 - val_acc: 0.1395\n",
      "Epoch 24/30\n",
      " - 21s - loss: 1.9667 - acc: 0.1235 - val_loss: 1.9507 - val_acc: 0.1395\n",
      "Epoch 25/30\n",
      " - 20s - loss: 1.9829 - acc: 0.1706 - val_loss: 1.9533 - val_acc: 0.1395\n",
      "Epoch 26/30\n",
      " - 21s - loss: 1.9485 - acc: 0.1471 - val_loss: 1.9534 - val_acc: 0.1163\n",
      "Epoch 27/30\n",
      " - 20s - loss: 1.9606 - acc: 0.1588 - val_loss: 1.9558 - val_acc: 0.1163\n",
      "Epoch 28/30\n",
      " - 21s - loss: 1.9414 - acc: 0.1529 - val_loss: 1.9542 - val_acc: 0.1628\n",
      "Epoch 29/30\n",
      " - 20s - loss: 1.9389 - acc: 0.1647 - val_loss: 1.9485 - val_acc: 0.1628\n",
      "Epoch 30/30\n",
      " - 21s - loss: 1.9744 - acc: 0.1647 - val_loss: 1.9476 - val_acc: 0.1163\n"
     ]
    },
    {
     "data": {
      "text/plain": [
       "<tensorflow.python.keras.callbacks.History at 0x138cbde08d0>"
      ]
     },
     "execution_count": 202,
     "metadata": {},
     "output_type": "execute_result"
    }
   ],
   "source": [
    "cnn_model3.fit(X_train, y_train, validation_data=(X_test, y_test), epochs=30,batch_size=8, verbose=2)"
   ]
  },
  {
   "cell_type": "code",
   "execution_count": 203,
   "metadata": {},
   "outputs": [
    {
     "name": "stdout",
     "output_type": "stream",
     "text": [
      "Classification Error: 88.37%\n"
     ]
    }
   ],
   "source": [
    "scores = cnn_model3.evaluate(X_test, y_test, verbose=0)\n",
    "print(\"Classification Error: %.2f%%\" % (100-scores[1]*100))"
   ]
  },
  {
   "cell_type": "code",
   "execution_count": null,
   "metadata": {},
   "outputs": [],
   "source": []
  }
 ],
 "metadata": {
  "kernelspec": {
   "display_name": "Python 3",
   "language": "python",
   "name": "python3"
  },
  "language_info": {
   "codemirror_mode": {
    "name": "ipython",
    "version": 3
   },
   "file_extension": ".py",
   "mimetype": "text/x-python",
   "name": "python",
   "nbconvert_exporter": "python",
   "pygments_lexer": "ipython3",
   "version": "3.7.1"
  }
 },
 "nbformat": 4,
 "nbformat_minor": 2
}
